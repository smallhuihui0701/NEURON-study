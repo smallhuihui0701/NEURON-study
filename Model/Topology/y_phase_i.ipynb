{
 "cells": [
  {
   "cell_type": "markdown",
   "metadata": {},
   "source": [
    "# Phase I: single nueron fiber Iclamp"
   ]
  },
  {
   "cell_type": "code",
   "execution_count": 43,
   "metadata": {},
   "outputs": [
    {
     "data": {
      "text/plain": [
       "1.0"
      ]
     },
     "execution_count": 43,
     "metadata": {},
     "output_type": "execute_result"
    }
   ],
   "source": [
    "import numpy as np\n",
    "import matplotlib.pyplot as plt\n",
    "from neuron import h\n",
    "from neuron.units import ms, mV, um\n",
    "h.load_file('stdrun.hoc') "
   ]
  },
  {
   "cell_type": "code",
   "execution_count": null,
   "metadata": {},
   "outputs": [],
   "source": [
    "axon = h.Section(name='axon')\n",
    "axon.L = 20000 * um\n",
    "axon.diam = 4 * um\n",
    "axon.nseg = 1000\n",
    "axon.Ra = 35.4\n",
    "axon.cm = 1\n",
    "axon.insert(h.hh)\n",
    "axon.insert(h.pas)\n",
    "\n",
    "for seg in axon:\n",
    "    seg.pas.e = -65 * mV"
   ]
  },
  {
   "cell_type": "code",
   "execution_count": 45,
   "metadata": {},
   "outputs": [],
   "source": [
    "iclamp = h.IClamp(axon(0))\n",
    "iclamp.delay = 5 * ms\n",
    "iclamp.dur = 20 * ms\n",
    "# iclamp.amp = 10"
   ]
  },
  {
   "cell_type": "code",
   "execution_count": 46,
   "metadata": {},
   "outputs": [
    {
     "data": {
      "text/plain": [
       "Vector[32]"
      ]
     },
     "execution_count": 46,
     "metadata": {},
     "output_type": "execute_result"
    }
   ],
   "source": [
    "ramp_t = h.Vector(np.arange(0 * ms, 30 * ms, 0.025 * ms))\n",
    "ramp_amp = h.Vector(0.1*np.sin(ramp_t)) * 10\n",
    "ramp_amp.play(iclamp._ref_amp, ramp_t, True) # last True says interpolate"
   ]
  },
  {
   "cell_type": "code",
   "execution_count": 47,
   "metadata": {},
   "outputs": [],
   "source": [
    "t = h.Vector().record(h._ref_t) # record time\n",
    "v = h.Vector().record(axon(0.5)._ref_v) # position"
   ]
  },
  {
   "cell_type": "code",
   "execution_count": 48,
   "metadata": {},
   "outputs": [
    {
     "data": {
      "text/plain": [
       "0.0"
      ]
     },
     "execution_count": 48,
     "metadata": {},
     "output_type": "execute_result"
    }
   ],
   "source": [
    "h.finitialize(-65 * mV) # initial value\n",
    "h.continuerun(100 * ms) # 20ms"
   ]
  },
  {
   "cell_type": "code",
   "execution_count": 49,
   "metadata": {},
   "outputs": [
    {
     "data": {
      "image/png": "[encoded data removed]",
      "text/plain": [
       "<Figure size 640x480 with 1 Axes>"
      ]
     },
     "metadata": {},
     "output_type": "display_data"
    }
   ],
   "source": [
    "#  Action Potential\n",
    "fig, ax = plt.subplots()\n",
    "ax.plot(t, v)\n",
    "ax.set_xlabel('t (ms)')\n",
    "ax.set_ylabel('v (mV)')\n",
    "plt.show()"
   ]
  }
 ],
 "metadata": {
  "kernelspec": {
   "display_name": "base",
   "language": "python",
   "name": "python3"
  },
  "language_info": {
   "codemirror_mode": {
    "name": "ipython",
    "version": 3
   },
   "file_extension": ".py",
   "mimetype": "text/x-python",
   "name": "python",
   "nbconvert_exporter": "python",
   "pygments_lexer": "ipython3",
   "version": "3.9.13"
  }
 },
 "nbformat": 4,
 "nbformat_minor": 2
}
