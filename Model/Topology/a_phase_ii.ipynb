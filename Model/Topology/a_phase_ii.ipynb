{
 "cells": [
  {
   "cell_type": "code",
   "execution_count": 24,
   "metadata": {},
   "outputs": [
    {
     "data": {
      "text/plain": [
       "1.0"
      ]
     },
     "execution_count": 24,
     "metadata": {},
     "output_type": "execute_result"
    }
   ],
   "source": [
    "import matplotlib.pyplot as plt\n",
    "from neuron import h\n",
    "from neuron.units import ms, mV, um\n",
    "h.load_file('stdrun.hoc')"
   ]
  },
  {
   "cell_type": "code",
   "execution_count": 25,
   "metadata": {},
   "outputs": [],
   "source": [
    "class MyelinatedAxon():\n",
    "    def __init__(self, gid):\n",
    "        self._gid = gid\n",
    "        self.axon = h.Section('axon', self)\n",
    "        self.axon.L = 20_000 * um\n",
    "        self.axon.diam = 8 * um\n",
    "        self.axon.insert(h.pas)\n",
    "        self.axon.insert(h.hh)\n",
    "        self.axon.nseg = 50\n",
    "        self.axon.Ra = 100\n",
    "        self.axon.cm = 0.01\n",
    "        for seg in self.axon:\n",
    "            seg.pas.e = -65 * mV\n",
    "        \n",
    "        self.v = h.Vector().record(self.axon(0.9)._ref_v)\n",
    "\n",
    "    def __repr__(self):\n",
    "        return f'MyelinatedAxon[{self._gid}]'"
   ]
  },
  {
   "cell_type": "code",
   "execution_count": 26,
   "metadata": {},
   "outputs": [],
   "source": [
    "class UnmyelinatedAxon():\n",
    "    def __init__(self, gid):\n",
    "        self._gid = gid\n",
    "        self.axon = h.Section('axon', self)\n",
    "        self.axon.L = 20_000 * um\n",
    "        self.axon.diam = 3 * um\n",
    "        self.axon.insert(h.pas)\n",
    "        self.axon.insert(h.hh)\n",
    "        self.axon.nseg = 50\n",
    "        self.axon.Ra = 200\n",
    "        self.axon.cm = 1.0\n",
    "        for seg in self.axon:\n",
    "            seg.pas.e = -65 * mV\n",
    "        \n",
    "        self.v = h.Vector().record(self.axon(0.9)._ref_v)\n",
    "\n",
    "    def __repr__(self):\n",
    "        return f'UnmyelinatedAxon[{self._gid}]'"
   ]
  },
  {
   "cell_type": "code",
   "execution_count": 27,
   "metadata": {},
   "outputs": [],
   "source": [
    "myelaxons = [MyelinatedAxon(i) for i in range(5)]\n",
    "unmyelaxons = [UnmyelinatedAxon(i) for i in range(10)]"
   ]
  },
  {
   "cell_type": "code",
   "execution_count": 28,
   "metadata": {},
   "outputs": [
    {
     "name": "stdout",
     "output_type": "stream",
     "text": [
      "\n",
      "|--------------------------------------------------|       MyelinatedAxon[0].axon(0-1)\n",
      "|--------------------------------------------------|       MyelinatedAxon[1].axon(0-1)\n",
      "|--------------------------------------------------|       MyelinatedAxon[2].axon(0-1)\n",
      "|--------------------------------------------------|       MyelinatedAxon[3].axon(0-1)\n",
      "|--------------------------------------------------|       MyelinatedAxon[4].axon(0-1)\n",
      "|--------------------------------------------------|       MyelinatedAxon[0].axon(0-1)\n",
      "|--------------------------------------------------|       MyelinatedAxon[1].axon(0-1)\n",
      "|--------------------------------------------------|       MyelinatedAxon[2].axon(0-1)\n",
      "|--------------------------------------------------|       MyelinatedAxon[3].axon(0-1)\n",
      "|--------------------------------------------------|       MyelinatedAxon[4].axon(0-1)\n",
      "|--------------------------------------------------|       UnmyelinatedAxon[0].axon(0-1)\n",
      "|--------------------------------------------------|       UnmyelinatedAxon[1].axon(0-1)\n",
      "|--------------------------------------------------|       UnmyelinatedAxon[2].axon(0-1)\n",
      "|--------------------------------------------------|       UnmyelinatedAxon[3].axon(0-1)\n",
      "|--------------------------------------------------|       UnmyelinatedAxon[4].axon(0-1)\n",
      "|--------------------------------------------------|       UnmyelinatedAxon[5].axon(0-1)\n",
      "|--------------------------------------------------|       UnmyelinatedAxon[6].axon(0-1)\n",
      "|--------------------------------------------------|       UnmyelinatedAxon[7].axon(0-1)\n",
      "|--------------------------------------------------|       UnmyelinatedAxon[8].axon(0-1)\n",
      "|--------------------------------------------------|       UnmyelinatedAxon[9].axon(0-1)\n",
      "\n"
     ]
    },
    {
     "data": {
      "text/plain": [
       "1.0"
      ]
     },
     "execution_count": 28,
     "metadata": {},
     "output_type": "execute_result"
    }
   ],
   "source": [
    "h.topology()"
   ]
  },
  {
   "cell_type": "code",
   "execution_count": 29,
   "metadata": {},
   "outputs": [
    {
     "name": "stdout",
     "output_type": "stream",
     "text": [
      "MyelinatedAxon[0]\n"
     ]
    },
    {
     "data": {
      "text/plain": [
       "IClamp[1]"
      ]
     },
     "execution_count": 29,
     "metadata": {},
     "output_type": "execute_result"
    }
   ],
   "source": [
    "print(myelaxons[0])\n",
    "h.IClamp(myelaxons[0].axon(0.1))"
   ]
  },
  {
   "cell_type": "code",
   "execution_count": 30,
   "metadata": {},
   "outputs": [],
   "source": [
    "ics = [h.IClamp(cell.axon(0.1)) for cell in myelaxons + unmyelaxons]\n",
    "for iclamp in ics:\n",
    "    iclamp.delay = 10 * ms\n",
    "    iclamp.dur = 1 * ms\n",
    "    iclamp.amp = 100"
   ]
  },
  {
   "cell_type": "code",
   "execution_count": 31,
   "metadata": {},
   "outputs": [
    {
     "data": {
      "text/plain": [
       "0.0"
      ]
     },
     "execution_count": 31,
     "metadata": {},
     "output_type": "execute_result"
    }
   ],
   "source": [
    "t = h.Vector().record(h._ref_t)\n",
    "h.finitialize(-65 * mV)\n",
    "h.continuerun(100 * ms)"
   ]
  },
  {
   "cell_type": "code",
   "execution_count": null,
   "metadata": {},
   "outputs": [
    {
     "data": {
      "image/png": "[encoded data removed]",
      "text/plain": [
       "<Figure size 640x480 with 1 Axes>"
      ]
     },
     "metadata": {},
     "output_type": "display_data"
    }
   ],
   "source": [
    "plt.plot(t, myelaxons[0].v, label='myelinated')\n",
    "plt.plot(t, unmyelaxons[0].v, label='unmyelinated')\n",
    "plt.xlabel('t (ms)')\n",
    "plt.ylabel('v (mV)')\n",
    "plt.legend()\n",
    "plt.show()"
   ]
  }
 ],
 "metadata": {
  "kernelspec": {
   "display_name": "neuron",
   "language": "python",
   "name": "python3"
  },
  "language_info": {
   "codemirror_mode": {
    "name": "ipython",
    "version": 3
   },
   "file_extension": ".py",
   "mimetype": "text/x-python",
   "name": "python",
   "nbconvert_exporter": "python",
   "pygments_lexer": "ipython3",
   "version": "3.12.3"
  }
 },
 "nbformat": 4,
 "nbformat_minor": 2
}
