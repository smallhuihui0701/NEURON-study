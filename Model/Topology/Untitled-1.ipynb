{
 "cells": [
  {
   "cell_type": "code",
   "execution_count": 1,
   "metadata": {},
   "outputs": [],
   "source": [
    "from math import pi, sin, cos"
   ]
  },
  {
   "cell_type": "code",
   "execution_count": 2,
   "metadata": {},
   "outputs": [
    {
     "name": "stdout",
     "output_type": "stream",
     "text": [
      "x8.0,y0.0\n",
      "x2.4721359549995796,y7.608452130361228\n",
      "x-6.472135954999579,y4.702282018339786\n",
      "x-6.47213595499958,y-4.702282018339784\n",
      "x2.472135954999578,y-7.608452130361229\n"
     ]
    }
   ],
   "source": [
    "for i in range(0,5):\n",
    "    arc = i/5*2*pi\n",
    "    print(f\"x{8*cos(arc)},y{8*sin(arc)}\")"
   ]
  }
 ],
 "metadata": {
  "kernelspec": {
   "display_name": "neuron",
   "language": "python",
   "name": "python3"
  },
  "language_info": {
   "codemirror_mode": {
    "name": "ipython",
    "version": 3
   },
   "file_extension": ".py",
   "mimetype": "text/x-python",
   "name": "python",
   "nbconvert_exporter": "python",
   "pygments_lexer": "ipython3",
   "version": "3.12.3"
  }
 },
 "nbformat": 4,
 "nbformat_minor": 2
}
