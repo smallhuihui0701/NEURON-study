{
  "nbformat": 4,
  "nbformat_minor": 0,
  "metadata": {
    "colab": {
      "provenance": []
    },
    "kernelspec": {
      "name": "python3",
      "display_name": "Python 3"
    },
    "language_info": {
      "name": "python"
    }
  },
  "cells": [
    {
      "cell_type": "code",
      "execution_count": 1,
      "metadata": {
        "colab": {
          "base_uri": "https://localhost:8080/"
        },
        "id": "sxxwQNYkDlDi",
        "outputId": "e71ec314-3857-4f94-f4b5-a4608c6c185a"
      },
      "outputs": [
        {
          "output_type": "stream",
          "name": "stdout",
          "text": [
            "NEURON is an amazing simulator.\n"
          ]
        }
      ],
      "source": [
        "print(\"NEURON is an amazing simulator.\")"
      ]
    },
    {
      "cell_type": "code",
      "source": [
        "print(4+(3*2))"
      ],
      "metadata": {
        "colab": {
          "base_uri": "https://localhost:8080/"
        },
        "id": "KZvPighdDz9e",
        "outputId": "52dfefab-9421-4914-a82e-707b0da95d9f"
      },
      "execution_count": 2,
      "outputs": [
        {
          "output_type": "stream",
          "name": "stdout",
          "text": [
            "10\n"
          ]
        }
      ]
    },
    {
      "cell_type": "code",
      "source": [
        "diameter = 10"
      ],
      "metadata": {
        "id": "wulxfU9LD4JH"
      },
      "execution_count": 3,
      "outputs": []
    },
    {
      "cell_type": "code",
      "source": [
        "print(diameter)"
      ],
      "metadata": {
        "colab": {
          "base_uri": "https://localhost:8080/"
        },
        "id": "qvH8SEvMEFRq",
        "outputId": "49c52c82-073d-4ad2-e105-f1d699c101b1"
      },
      "execution_count": 4,
      "outputs": [
        {
          "output_type": "stream",
          "name": "stdout",
          "text": [
            "10\n"
          ]
        }
      ]
    },
    {
      "cell_type": "code",
      "source": [
        "print(\"the diameter of the soma is\", diameter)"
      ],
      "metadata": {
        "colab": {
          "base_uri": "https://localhost:8080/"
        },
        "id": "qY7_T09cEG_-",
        "outputId": "9e6af64c-d83c-47f0-b049-67fda2468888"
      },
      "execution_count": 5,
      "outputs": [
        {
          "output_type": "stream",
          "name": "stdout",
          "text": [
            "the diameter of the soma is 10\n"
          ]
        }
      ]
    },
    {
      "cell_type": "code",
      "source": [
        "print(f\"The diameter of the soma is {diameter}. The axon is...\")"
      ],
      "metadata": {
        "colab": {
          "base_uri": "https://localhost:8080/"
        },
        "id": "g5yNsp76ENzV",
        "outputId": "cc1f6e13-0f88-42de-b839-8fd6c6b4239a"
      },
      "execution_count": 6,
      "outputs": [
        {
          "output_type": "stream",
          "name": "stdout",
          "text": [
            "The diameter of the soma is 10. The axon is...\n"
          ]
        }
      ]
    },
    {
      "cell_type": "code",
      "source": [
        "message = f\"The diameter of the soma is {diameter}. The axon is...\""
      ],
      "metadata": {
        "id": "OayV1-MkEZUK"
      },
      "execution_count": 7,
      "outputs": []
    },
    {
      "cell_type": "code",
      "source": [
        "print(message)"
      ],
      "metadata": {
        "colab": {
          "base_uri": "https://localhost:8080/"
        },
        "id": "XiiFiUeiEeSZ",
        "outputId": "aac5e5c6-e856-47f2-be94-9d0bb21c101b"
      },
      "execution_count": 8,
      "outputs": [
        {
          "output_type": "stream",
          "name": "stdout",
          "text": [
            "The diameter of the soma is 10. The axon is...\n"
          ]
        }
      ]
    },
    {
      "cell_type": "code",
      "source": [
        "cell_parts = [\"soma\", \"axon\", \"dendrites\"]\n",
        "for part in cell_parts:\n",
        "  print(part)"
      ],
      "metadata": {
        "colab": {
          "base_uri": "https://localhost:8080/"
        },
        "id": "z-PpBX6YEfbI",
        "outputId": "8632e905-5d5b-4b97-c2eb-976bd59004e7"
      },
      "execution_count": 9,
      "outputs": [
        {
          "output_type": "stream",
          "name": "stdout",
          "text": [
            "soma\n",
            "axon\n",
            "dendrites\n"
          ]
        }
      ]
    },
    {
      "cell_type": "code",
      "source": [
        "print(\"soma\" in cell_parts)"
      ],
      "metadata": {
        "colab": {
          "base_uri": "https://localhost:8080/"
        },
        "id": "xz5C-98cEznN",
        "outputId": "07042818-63f7-4870-ca7e-2c091377c4dd"
      },
      "execution_count": 10,
      "outputs": [
        {
          "output_type": "stream",
          "name": "stdout",
          "text": [
            "True\n"
          ]
        }
      ]
    },
    {
      "cell_type": "code",
      "source": [
        "print(\"spine\" in cell_parts)"
      ],
      "metadata": {
        "colab": {
          "base_uri": "https://localhost:8080/"
        },
        "id": "fB0CAW9ZFIaj",
        "outputId": "9d92d9f4-2171-46ef-c5a7-5c06a9372da6"
      },
      "execution_count": 12,
      "outputs": [
        {
          "output_type": "stream",
          "name": "stdout",
          "text": [
            "False\n"
          ]
        }
      ]
    },
    {
      "cell_type": "code",
      "source": [
        "print(cell_parts[0])"
      ],
      "metadata": {
        "colab": {
          "base_uri": "https://localhost:8080/"
        },
        "id": "9O7U-Rq4FKga",
        "outputId": "20a01d24-009f-48b8-b815-70dc7a0d5af8"
      },
      "execution_count": 13,
      "outputs": [
        {
          "output_type": "stream",
          "name": "stdout",
          "text": [
            "soma\n"
          ]
        }
      ]
    },
    {
      "cell_type": "code",
      "source": [
        "diameters = {\"soma\": 10, \"axon\": 5, \"dendrites\": 2}\n",
        "print(diameters[\"dendrites\"])"
      ],
      "metadata": {
        "colab": {
          "base_uri": "https://localhost:8080/"
        },
        "id": "a0Gap945Foko",
        "outputId": "7e0147f7-a9fd-4830-dbfb-c468597a889e"
      },
      "execution_count": 15,
      "outputs": [
        {
          "output_type": "stream",
          "name": "stdout",
          "text": [
            "2\n"
          ]
        }
      ]
    },
    {
      "cell_type": "code",
      "source": [
        "for cell_part, diameter in diameters.items():\n",
        "  print(f\"The diameter of the {cell_part} is {diameter}.\")"
      ],
      "metadata": {
        "colab": {
          "base_uri": "https://localhost:8080/"
        },
        "id": "ed3W1S6UFyhP",
        "outputId": "533297e4-0ff6-4145-9c56-c29bfb0939ab"
      },
      "execution_count": 17,
      "outputs": [
        {
          "output_type": "stream",
          "name": "stdout",
          "text": [
            "The diameter of the soma is 10.\n",
            "The diameter of the axon is 5.\n",
            "The diameter of the dendrites is 2.\n"
          ]
        }
      ]
    },
    {
      "cell_type": "code",
      "source": [
        "def volume_of_cylinder(diam, length):\n",
        "  return 3.14 * diam ** 2 / 4 * length"
      ],
      "metadata": {
        "id": "RUIaN0JaF3SS"
      },
      "execution_count": 18,
      "outputs": []
    },
    {
      "cell_type": "code",
      "source": [
        "volume_of_cylinder(2, 20)"
      ],
      "metadata": {
        "colab": {
          "base_uri": "https://localhost:8080/"
        },
        "id": "DHl46nEfGiJ4",
        "outputId": "20b9f06b-bc1a-4258-e58b-5677f4f0ccf7"
      },
      "execution_count": 19,
      "outputs": [
        {
          "output_type": "execute_result",
          "data": {
            "text/plain": [
              "62.800000000000004"
            ]
          },
          "metadata": {},
          "execution_count": 19
        }
      ]
    },
    {
      "cell_type": "code",
      "source": [
        "import math"
      ],
      "metadata": {
        "id": "ZUK05R8UGpZl"
      },
      "execution_count": 20,
      "outputs": []
    },
    {
      "cell_type": "code",
      "source": [
        "print(math.pi)"
      ],
      "metadata": {
        "colab": {
          "base_uri": "https://localhost:8080/"
        },
        "id": "4_GKsVYXG962",
        "outputId": "474b9dde-1b97-47b0-f02f-1dbc1122e252"
      },
      "execution_count": 21,
      "outputs": [
        {
          "output_type": "stream",
          "name": "stdout",
          "text": [
            "3.141592653589793\n"
          ]
        }
      ]
    },
    {
      "cell_type": "code",
      "source": [
        "!pip install neuron"
      ],
      "metadata": {
        "colab": {
          "base_uri": "https://localhost:8080/"
        },
        "id": "pUxqUxR0JLlr",
        "outputId": "b5cfbf37-8744-47c9-b2a5-391dbf52a0f0"
      },
      "execution_count": 23,
      "outputs": [
        {
          "output_type": "stream",
          "name": "stdout",
          "text": [
            "Collecting neuron\n",
            "  Downloading NEURON-8.2.6-cp311-cp311-manylinux_2_17_x86_64.manylinux2014_x86_64.whl.metadata (3.7 kB)\n",
            "Requirement already satisfied: numpy<2,>=1.9.3 in /usr/local/lib/python3.11/dist-packages (from neuron) (1.26.4)\n",
            "Requirement already satisfied: packaging in /usr/local/lib/python3.11/dist-packages (from neuron) (24.2)\n",
            "Collecting find-libpython (from neuron)\n",
            "  Downloading find_libpython-0.4.0-py3-none-any.whl.metadata (2.8 kB)\n",
            "Requirement already satisfied: setuptools in /usr/local/lib/python3.11/dist-packages (from neuron) (75.1.0)\n",
            "Downloading NEURON-8.2.6-cp311-cp311-manylinux_2_17_x86_64.manylinux2014_x86_64.whl (15.2 MB)\n",
            "\u001b[2K   \u001b[90m━━━━━━━━━━━━━━━━━━━━━━━━━━━━━━━━━━━━━━━━\u001b[0m \u001b[32m15.2/15.2 MB\u001b[0m \u001b[31m63.1 MB/s\u001b[0m eta \u001b[36m0:00:00\u001b[0m\n",
            "\u001b[?25hDownloading find_libpython-0.4.0-py3-none-any.whl (8.7 kB)\n",
            "Installing collected packages: find-libpython, neuron\n",
            "Successfully installed find-libpython-0.4.0 neuron-8.2.6\n"
          ]
        }
      ]
    },
    {
      "cell_type": "code",
      "source": [
        "from neuron import h"
      ],
      "metadata": {
        "id": "vrDPZfvEG_MN"
      },
      "execution_count": 24,
      "outputs": []
    },
    {
      "cell_type": "code",
      "source": [
        "h.PI == math.pi"
      ],
      "metadata": {
        "colab": {
          "base_uri": "https://localhost:8080/"
        },
        "id": "HGyFzoOIJDRX",
        "outputId": "52f0aabd-2212-4bbb-db78-518385574d8c"
      },
      "execution_count": 25,
      "outputs": [
        {
          "output_type": "execute_result",
          "data": {
            "text/plain": [
              "True"
            ]
          },
          "metadata": {},
          "execution_count": 25
        }
      ]
    },
    {
      "cell_type": "code",
      "source": [
        "axon = h.Section(\"axon\")"
      ],
      "metadata": {
        "id": "DOnn8uq6JSgA"
      },
      "execution_count": 26,
      "outputs": []
    },
    {
      "cell_type": "code",
      "source": [
        "my_sec = axon"
      ],
      "metadata": {
        "id": "tGQp9qHpMN-p"
      },
      "execution_count": 27,
      "outputs": []
    },
    {
      "cell_type": "code",
      "source": [
        "print(axon)"
      ],
      "metadata": {
        "colab": {
          "base_uri": "https://localhost:8080/"
        },
        "id": "Uk0Bw6-eMPpH",
        "outputId": "c6f34254-e79e-4c9b-cb40-12b9b58aa7fb"
      },
      "execution_count": 28,
      "outputs": [
        {
          "output_type": "stream",
          "name": "stdout",
          "text": [
            "axon\n"
          ]
        }
      ]
    },
    {
      "cell_type": "code",
      "source": [
        "print(my_sec)"
      ],
      "metadata": {
        "colab": {
          "base_uri": "https://localhost:8080/"
        },
        "id": "A56FfzIAMQWL",
        "outputId": "7101e3af-f6b2-461d-bf8f-3cab06d3e3be"
      },
      "execution_count": 29,
      "outputs": [
        {
          "output_type": "stream",
          "name": "stdout",
          "text": [
            "axon\n"
          ]
        }
      ]
    },
    {
      "cell_type": "code",
      "source": [
        "basal = h.Section(\"apical\")"
      ],
      "metadata": {
        "id": "H_jGdR-sMRbC"
      },
      "execution_count": 30,
      "outputs": []
    },
    {
      "cell_type": "code",
      "source": [
        "class Pyramidal:\n",
        "  def __init__(self):\n",
        "    self.soma = h.Section(\"soma\", self)\n",
        "    self.dendrites = h.Section(\"dendrites\", self)\n",
        "    self.axon = h.Section(\"axon\", self)\n",
        "    self.dendrites.connect(self.soma)\n",
        "    self.axon.connect(self.soma)"
      ],
      "metadata": {
        "id": "DAoXiaZEMe-u"
      },
      "execution_count": 31,
      "outputs": []
    },
    {
      "cell_type": "code",
      "source": [
        "pyr = Pyramidal()"
      ],
      "metadata": {
        "id": "JR3BtyheN3ea"
      },
      "execution_count": 32,
      "outputs": []
    },
    {
      "cell_type": "code",
      "source": [
        "pyr1 = Pyramidal()"
      ],
      "metadata": {
        "id": "ueUaTHkPN7cu"
      },
      "execution_count": 33,
      "outputs": []
    },
    {
      "cell_type": "code",
      "source": [
        "h.topology()"
      ],
      "metadata": {
        "colab": {
          "base_uri": "https://localhost:8080/"
        },
        "id": "1u4Jn2F-N_72",
        "outputId": "bc398e58-fe66-4449-bcc3-86f132150c16"
      },
      "execution_count": 34,
      "outputs": [
        {
          "output_type": "stream",
          "name": "stdout",
          "text": [
            "\n",
            "|-|       axon(0-1)\n",
            "|-|       apical(0-1)\n",
            "|-|       <__main__.Pyramidal object at 0x7e32f0985610>.soma(0-1)\n",
            "   `|       <__main__.Pyramidal object at 0x7e32f0985610>.dendrites(0-1)\n",
            "   `|       <__main__.Pyramidal object at 0x7e32f0985610>.axon(0-1)\n",
            "|-|       <__main__.Pyramidal object at 0x7e32f0942ad0>.soma(0-1)\n",
            "   `|       <__main__.Pyramidal object at 0x7e32f0942ad0>.dendrites(0-1)\n",
            "   `|       <__main__.Pyramidal object at 0x7e32f0942ad0>.axon(0-1)\n",
            "\n"
          ]
        },
        {
          "output_type": "execute_result",
          "data": {
            "text/plain": [
              "1.0"
            ]
          },
          "metadata": {},
          "execution_count": 34
        }
      ]
    },
    {
      "cell_type": "code",
      "source": [
        "sec = pyr1.soma"
      ],
      "metadata": {
        "id": "98xjBWUWOCvQ"
      },
      "execution_count": 35,
      "outputs": []
    },
    {
      "cell_type": "code",
      "source": [
        "sec.cell() == pyr1"
      ],
      "metadata": {
        "colab": {
          "base_uri": "https://localhost:8080/"
        },
        "id": "EgorOkQ6OPUB",
        "outputId": "eb118000-92e9-4c4e-a062-a42540ddc417"
      },
      "execution_count": 37,
      "outputs": [
        {
          "output_type": "execute_result",
          "data": {
            "text/plain": [
              "True"
            ]
          },
          "metadata": {},
          "execution_count": 37
        }
      ]
    },
    {
      "cell_type": "code",
      "source": [
        "sec.wholetree()"
      ],
      "metadata": {
        "colab": {
          "base_uri": "https://localhost:8080/"
        },
        "id": "BY7q2X4VOSNn",
        "outputId": "864a68ea-86d5-4dc5-ff6e-92a54fb0eadc"
      },
      "execution_count": 38,
      "outputs": [
        {
          "output_type": "execute_result",
          "data": {
            "text/plain": [
              "[<__main__.Pyramidal object at 0x7e32f0942ad0>.soma,\n",
              " <__main__.Pyramidal object at 0x7e32f0942ad0>.axon,\n",
              " <__main__.Pyramidal object at 0x7e32f0942ad0>.dendrites]"
            ]
          },
          "metadata": {},
          "execution_count": 38
        }
      ]
    },
    {
      "cell_type": "code",
      "source": [],
      "metadata": {
        "id": "0piyFzYNOza2"
      },
      "execution_count": null,
      "outputs": []
    }
  ]
}